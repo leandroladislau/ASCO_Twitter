{
 "cells": [
  {
   "cell_type": "code",
   "execution_count": null,
   "id": "8a7aa220-5fd3-4711-a998-9dfaae162328",
   "metadata": {
    "tags": []
   },
   "outputs": [],
   "source": [
    "import tweepy\n",
    "from tweepy import Stream\n",
    "from tweepy.streaming import StreamListener \n",
    "from tweepy import OAuthHandler\n",
    "import json\n",
    "from pymongo import MongoClient"
   ]
  },
  {
   "cell_type": "code",
   "execution_count": null,
   "id": "333a28d9-a0b8-43d6-91f2-8081ec1eff13",
   "metadata": {
    "tags": []
   },
   "outputs": [],
   "source": [
    "consumer_key = \"XXX\"\n",
    "consumer_secret = \"XXX\"\n",
    "access_token = \"XXXX\"\n",
    "access_token_secret = \"XXXX\""
   ]
  },
  {
   "cell_type": "code",
   "execution_count": null,
   "id": "fb59afa0-7972-41d2-9447-9cc7e54fb7c7",
   "metadata": {},
   "outputs": [],
   "source": [
    "auth = OAuthHandler(consumer_key, consumer_secret)\n",
    "auth.set_access_token(access_token, access_token_secret)"
   ]
  },
  {
   "cell_type": "code",
   "execution_count": null,
   "id": "f54df065-fca9-4b16-ad87-46f238a906d5",
   "metadata": {
    "tags": []
   },
   "outputs": [],
   "source": [
    "client = MongoClient('localhost', 27017)\n",
    "db = client.database_names\n",
    "col = db.table_name"
   ]
  },
  {
   "cell_type": "code",
   "execution_count": null,
   "id": "208a0e6b-ccab-465e-9cc1-42834e8ffd5f",
   "metadata": {},
   "outputs": [],
   "source": [
    "TRACKING_KEYWORDS = [\"asco\", \"Asco\", \"ASCO\"]\n",
    "LANGUAGE = [\"en\"]\n",
    "TWEETS_TO_CAPTURE = 5000"
   ]
  },
  {
   "cell_type": "code",
   "execution_count": null,
   "id": "fb2d8bea-e020-4105-9a7a-deaeb8a1ce47",
   "metadata": {
    "tags": []
   },
   "outputs": [],
   "source": [
    "# Database of Twitter stream\n",
    "class MyStreamListener(StreamListener):\n",
    "    \n",
    "    def __init__(self, api=None):\n",
    "        super(MyStreamListener, self).__init__()\n",
    "        self.num_tweets = 0\n",
    "            \n",
    "    def on_data(self, data):\n",
    "        tweet = json.loads(data)\n",
    "        tweetind = col.insert_one(tweet).inserted_id\n",
    "        self.num_tweets += 1\n",
    "                     \n",
    "        if self.num_tweets <= TWEETS_TO_CAPTURE:\n",
    "            if self.num_tweets % 100 == 0: # just to see some progress...\n",
    "                print('Numer of tweets captured so far: {}'.format(self.num_tweets))\n",
    "            return True\n",
    "        else:\n",
    "            return False\n",
    "        return True\n",
    "    \n",
    "    def on_error(self, status):\n",
    "        print(status)"
   ]
  },
  {
   "cell_type": "code",
   "execution_count": null,
   "id": "c4877e95-c3de-4846-8ec6-3830bd1e81e1",
   "metadata": {
    "tags": []
   },
   "outputs": [],
   "source": [
    "myStreamListener = MyStreamListener()\n",
    "myStream = Stream(auth, listener = myStreamListener, tweet_mode = 'extended', wait_on_rate_limit=True)"
   ]
  },
  {
   "cell_type": "code",
   "execution_count": null,
   "id": "b4755326-c9fe-45ab-a483-3b7854140417",
   "metadata": {
    "tags": []
   },
   "outputs": [],
   "source": [
    "%%time\n",
    "\n",
    "myStream.filter(track=TRACKING_KEYWORDS, languages=LANGUAGE)"
   ]
  },
  {
   "cell_type": "code",
   "execution_count": null,
   "id": "5b6aad80-9774-482f-83c5-4d675145a1fc",
   "metadata": {
    "tags": []
   },
   "outputs": [],
   "source": [
    "myStream.disconnect()"
   ]
  },
  {
   "cell_type": "code",
   "execution_count": null,
   "id": "2f391653-de1b-4f5f-9a2c-ddb0a1ba99e6",
   "metadata": {},
   "outputs": [],
   "source": []
  }
 ],
 "metadata": {
  "kernelspec": {
   "display_name": "Python 3",
   "language": "python",
   "name": "python3"
  },
  "language_info": {
   "codemirror_mode": {
    "name": "ipython",
    "version": 3
   },
   "file_extension": ".py",
   "mimetype": "text/x-python",
   "name": "python",
   "nbconvert_exporter": "python",
   "pygments_lexer": "ipython3",
   "version": "3.9.7"
  }
 },
 "nbformat": 4,
 "nbformat_minor": 5
}
